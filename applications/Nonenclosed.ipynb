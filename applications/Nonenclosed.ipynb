{
 "cells": [
  {
   "cell_type": "markdown",
   "metadata": {
    "kernel": "SoS"
   },
   "source": [
    "## Outbreak in a non-enclosed and heterogeneous population"
   ]
  },
  {
   "cell_type": "markdown",
   "metadata": {
    "kernel": "SoS"
   },
   "source": [
    "## Background"
   ]
  },
  {
   "cell_type": "markdown",
   "metadata": {
    "kernel": "SoS"
   },
   "source": [
    "The FPSO example we have simulated represents an enclosed environment in which the introduction of virus could be stricly controlled. However,  most factories are not enclosed and would be exposed to surrounding communities and be at the risk of injection of virus.\n",
    "\n",
    "This project simulates a factory with a on-going COVID-19 outbreak, complicated by the flow of workers with its surronding communities."
   ]
  },
  {
   "cell_type": "markdown",
   "metadata": {
    "kernel": "SoS"
   },
   "source": [
    "## Assumptions\n",
    "\n",
    "1. There are 20000 workers and 2000 contractors in the factory\n",
    "2. An outbreak is happening with an incidence rate of 0.002 and population seroprevalence of 0.05.\n",
    "3. Ten contractors will arrive at the factory, and on average 10% of them carries the SARS-CoV-2 virus. The carrier can be pre-symptomatic or asymptomatic.\n",
    "4. Workers are generally young and fit and are less susceptible than contractors, this is reflected by susceptibility coeffients 0.9 and 1.1 for two different groups. We also assume that contractors are more infectious than workers because they are in contact with more people in the factory."
   ]
  },
  {
   "cell_type": "markdown",
   "metadata": {
    "kernel": "SoS"
   },
   "source": [
    "## Simulation"
   ]
  },
  {
   "cell_type": "markdown",
   "metadata": {
    "kernel": "SoS"
   },
   "source": [
    "The simulation is performed by the following command"
   ]
  },
  {
   "cell_type": "code",
   "execution_count": 1,
   "metadata": {
    "kernel": "Bash"
   },
   "outputs": [
    {
     "name": "stdout",
     "output_type": "stream",
     "text": [
      "100%|███████████████████████████████████████████| 10/10 [01:09<00:00,  6.91s/it]\n",
      "\n"
     ]
    }
   ],
   "source": [
    "outbreak_simulator -j1 --rep 10 --stop-if 't>60' \\\n",
    "  --popsize worker=20000 contractor=2000 --handle-symptomatic quarantine \\\n",
    "  --susceptibility worker=0.9 contractor=1.1 \\\n",
    "  --symptomatic-r0 worker=0.9 contractor=1.1 \\\n",
    "  --asymptomatic-r0 worker=0.9 contractor=1.1 \\\n",
    "  --logfile nonenclosed.log \\\n",
    "  --plugin stat --interval 1 \\\n",
    "  --plugin insert contractor=20 --prop-of-infected 0.1 --leadtime asymptomatic --interval 1 \\\n",
    "  --plugin remove contractor=20 --interval 1\\\n",
    "  > nonenclosed.txt"
   ]
  },
  {
   "cell_type": "markdown",
   "metadata": {
    "kernel": "Bash"
   },
   "source": [
    "where \n",
    "1. `--poopsize` specifies number of workers and contractors\n",
    "2. `--susceptibility`, `--symptomatic-r0`, `--asymtpmatic-r0` specifies relative susceptibility and infectibity for workers and contractors.\n",
    "3. Plugin `stat` reports statistics for the entire population and for workers and contractors\n",
    "4. Plugin `insert` inserts 10 contractors to the population everyday with `10%` of them carrying the virus."
   ]
  },
  {
   "cell_type": "markdown",
   "metadata": {
    "kernel": "SoS"
   },
   "source": [
    "## Results"
   ]
  },
  {
   "cell_type": "markdown",
   "metadata": {
    "kernel": "Bash"
   },
   "source": [
    "Although a large number of statistics such as number of affected, recovered, seroprevalence in contractor and workers are reported, we extract the following statistics from the output of the simulations (`nonenclosed.txt`) for this report:\n",
    "\n",
    "1. `avg_contractor_incidence_rate_0.00` to `avg_contractor_incidence_rate_90.00` as incidence rate among contractors for 10 replicate simulations.\n",
    "2. `avg_worker_incidence_rate_0.00` to `avg_worker_incidence_rate_90.00` as incidence rate among workers for 10 replicate simulations."
   ]
  },
  {
   "cell_type": "code",
   "execution_count": 2,
   "metadata": {
    "kernel": "SoS"
   },
   "outputs": [],
   "source": [
    "import pandas as pd\n",
    "def get_seq(filename, field_name):\n",
    "    result = {}\n",
    "    with open(filename) as stat:\n",
    "        for line in stat:\n",
    "            if line.startswith(field_name):\n",
    "                key, value = line.strip().split('\\t')\n",
    "                t = int(key[len(field_name)+1:].split('.')[0])\n",
    "                #if ':' in value:\n",
    "                #    value = eval('{' + value + '}')\n",
    "                #else:\n",
    "                #    value = {idx+1:value for idx, value in enumerate(eval(value))}\n",
    "                value = eval(value)[0]\n",
    "                result[t] = value\n",
    "              \n",
    "    #return pd.DataFrame(result).transpose()[[x for x in range(1, 101)]]\n",
    "    return result"
   ]
  },
  {
   "cell_type": "code",
   "execution_count": 3,
   "metadata": {
    "kernel": "SoS"
   },
   "outputs": [],
   "source": [
    "avg_contractor_incidence_rate = get_seq('nonenclosed.txt', 'avg_contractor_incidence_rate')\n",
    "avg_worker_incidence_rate = get_seq('nonenclosed.txt', 'avg_worker_incidence_rate')\n",
    "\n",
    "avg_incidence_rate = pd.DataFrame({\n",
    "    'contractor_incidence_rate': list(avg_contractor_incidence_rate.values()),\n",
    "    'worker_incidence_rate': list(avg_worker_incidence_rate.values()),\n",
    "    },\n",
    "    index=list(avg_contractor_incidence_rate.keys())\n",
    ")"
   ]
  },
  {
   "cell_type": "markdown",
   "metadata": {
    "kernel": "SoS"
   },
   "source": [
    "The following figure shows the change of incidence rate for 10 replicate simulations. The population does not have any case from the beginning until the incoming contractors brought the virus to the worker population. The contractors are the source of infection and are more susceptible so the incidence rate among contractors were always higher than that of the workers."
   ]
  },
  {
   "cell_type": "code",
   "execution_count": 4,
   "metadata": {
    "kernel": "SoS"
   },
   "outputs": [
    {
     "data": {
      "text/plain": [
       "<AxesSubplot:xlabel='days', ylabel='incidence rate'>"
      ]
     },
     "execution_count": 4,
     "metadata": {},
     "output_type": "execute_result"
    },
    {
     "data": {
      "image/png": "[encoded data removed]",
      "text/plain": [
       "<Figure size 432x288 with 1 Axes>"
      ]
     },
     "metadata": {
      "needs_background": "light"
     },
     "output_type": "display_data"
    }
   ],
   "source": [
    "avg_incidence_rate.plot(xlabel='days', ylabel='incidence rate')"
   ]
  },
  {
   "cell_type": "markdown",
   "metadata": {
    "kernel": "SoS"
   },
   "source": [
    "## Availability"
   ]
  },
  {
   "cell_type": "markdown",
   "metadata": {
    "kernel": "SoS"
   },
   "source": [
    "This notebook is available under the `Applications` directory of the [GitHub repository](https://github.com/ictr/covid19-outbreak-simulator) of the COVID19 Outbreak Simulator. It can be executed with [`sos-papermill`](https://github.com/vatlab/sos-papermill) with the following parameters, or using a docker image `bcmictr/outbreak-simulator-notebook` as described in [here](/covid19-outbreak-simulator/docs/cli/)."
   ]
  }
 ],
 "metadata": {
  "kernelspec": {
   "display_name": "SoS",
   "language": "sos",
   "name": "sos"
  },
  "language_info": {
   "codemirror_mode": "sos",
   "file_extension": ".sos",
   "mimetype": "text/x-sos",
   "name": "sos",
   "nbconvert_exporter": "sos_notebook.converter.SoS_Exporter",
   "pygments_lexer": "sos"
  },
  "sos": {
   "kernels": [
    [
     "Bash",
     "calysto_bash",
     "Bash",
     "#E6EEFF",
     ""
    ]
   ],
   "version": "0.21.13"
  }
 },
 "nbformat": 4,
 "nbformat_minor": 4
}
