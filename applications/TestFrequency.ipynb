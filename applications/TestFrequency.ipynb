{
 "cells": [
  {
   "cell_type": "markdown",
   "metadata": {
    "kernel": "SoS"
   },
   "source": [
    "## Testing Frequency"
   ]
  },
  {
   "cell_type": "markdown",
   "metadata": {
    "kernel": "SoS"
   },
   "source": [
    "## Background"
   ]
  },
  {
   "cell_type": "markdown",
   "metadata": {
    "kernel": "SoS"
   },
   "source": [
    "In a population where there is constant threat of community infection, there is a need to test everyone to ensure workplace safety.\n",
    "\n",
    "The goal of this simulation is to determine how many in the cohort would be infected with periodic testing with specified intervals."
   ]
  },
  {
   "cell_type": "markdown",
   "metadata": {
    "kernel": "SoS"
   },
   "source": [
    "## Assumptions\n",
    "\n",
    "1. Risk of community spread is `20/10,000` to `50/10,000` per day, default to 0.0022.\n",
    "2. Cohort of size 10 to 40, with no virus at the beginning.\n",
    "3. Test everyone in the cohor either every week, every 3 days or every 2 weeks. "
   ]
  },
  {
   "cell_type": "markdown",
   "metadata": {
    "kernel": "SoS"
   },
   "source": [
    "## Simulations "
   ]
  },
  {
   "cell_type": "markdown",
   "metadata": {
    "kernel": "SoS"
   },
   "source": [
    "The simulation could be performed with the following command\n",
    "\n",
    "```\n",
    "outbreak_simulator --rep 10000 --popsize {ps} --handle-symptomatic remove --stop-if 't>90' --logfile p{ps}_t{ti}.log \\\n",
    "        --plugin community_infection --probability 0.005 --interval 1  \\\n",
    "        --plugin testing --interval {ti} --proportion 1 --handle-positive remove \\\n",
    "        --plugin stat --at 14 90\n",
    "```\n",
    "\n",
    "where \n",
    "* Simulation will last 90 days.\n",
    "* Plugin `community_infection` infects everyone at a given probability at given interval\n",
    "* Plugin `testing` tests everyone (`proportion=1`) and remove infected individuals.\n",
    "* Plugin `stat` to output population statistics.\n",
    "\n",
    "Here we use [`sos workflow`](https://vatlab.github.io) to execute simulations for population size (`ps`) 10, 20, 30, 40, and testing frequency (`ti`) 0 (no test at all), 3 (every 3 days), 7, and 14."
   ]
  },
  {
   "cell_type": "code",
   "execution_count": 78,
   "metadata": {
    "kernel": "SoS",
    "scrolled": true
   },
   "outputs": [
    {
     "data": {
      "text/html": [
       "\n",
       "<table id=\"task_mini_1b14ddee8d472c21_f58271e81b6445fe84f589d830f58004\" class=\"task_table completed\">\n",
       "<tr>\n",
       "    <td class=\"task_icon\">\n",
       "      <i id=\"task_status_icon_mini_1b14ddee8d472c21_f58271e81b6445fe84f589d830f58004\" class=\"fa fa-2x fa-fw fa-check-square-o\"</i>\n",
       "    </td>\n",
       "    <td class=\"task_id\">\n",
       "      <span><pre><i class=\"fa fa-fw fa-sitemap\"></i></pre><pre>1b14ddee8d472c21<div class=\"task_id_actions\"><i class=\"fa fa-fw fa-refresh\" onclick=\"task_action({action:'status', task:'1b14ddee8d472c21', queue: 'mini'})\"></i><i class=\"fa fa-fw fa-play\" onclick=\"task_action({action:'execute', task:'1b14ddee8d472c21', queue: 'mini'})\"></i><i class=\"fa fa-fw fa-stop\"\" onclick=\"task_action({action:'kill', task:'1b14ddee8d472c21', queue: 'mini'})\"></i><i class=\"fa fa-fw fa-trash\"\" onclick=\"task_action({action:'purge', task:'1b14ddee8d472c21', queue: 'mini'})\"></i></div></pre></span>\n",
       "    </td>\n",
       "    <td class=\"task_tags\">\n",
       "      <span id=\"status_tags_mini_1b14ddee8d472c21_f58271e81b6445fe84f589d830f58004\"><pre><i class=\"fa fa-fw fa-info-circle\"></i></pre><pre class=\"task_tags task_tag_COVID-simulation\">COVID-simulation<div class=\"task_tag_actions\"><i class=\"fa fa-fw fa-refresh\" onclick=\"task_action({action:'status', tag:'COVID-simulation', queue: 'mini'})\"></i><i class=\"fa fa-fw fa-stop\"\" onclick=\"task_action({action:'kill', tag:'COVID-simulation', queue: 'mini'})\"></i><i class=\"fa fa-fw fa-trash\"\" onclick=\"task_action({action:'purge', tag:'COVID-simulation', queue: 'mini'})\"></i></div></pre><pre class=\"task_tags task_tag_dc16cf4dda77be91\">dc16cf4dda77be91<div class=\"task_tag_actions\"><i class=\"fa fa-fw fa-refresh\" onclick=\"task_action({action:'status', tag:'dc16cf4dda77be91', queue: 'mini'})\"></i><i class=\"fa fa-fw fa-stop\"\" onclick=\"task_action({action:'kill', tag:'dc16cf4dda77be91', queue: 'mini'})\"></i><i class=\"fa fa-fw fa-trash\"\" onclick=\"task_action({action:'purge', tag:'dc16cf4dda77be91', queue: 'mini'})\"></i></div></pre><pre class=\"task_tags task_tag_scratch_0\">scratch_0<div class=\"task_tag_actions\"><i class=\"fa fa-fw fa-refresh\" onclick=\"task_action({action:'status', tag:'scratch_0', queue: 'mini'})\"></i><i class=\"fa fa-fw fa-stop\"\" onclick=\"task_action({action:'kill', tag:'scratch_0', queue: 'mini'})\"></i><i class=\"fa fa-fw fa-trash\"\" onclick=\"task_action({action:'purge', tag:'scratch_0', queue: 'mini'})\"></i></div></pre></span>\n",
       "    </td>\n",
       "    <td class=\"task_timer\">\n",
       "      <pre><i class=\"fa fa-fw fa-clock-o\"></i><time id=\"status_duration_mini_1b14ddee8d472c21_f58271e81b6445fe84f589d830f58004\" class=\"completed\" datetime=\"1596729293762.1318\">Ran for < 5 seconds</time></pre>\n",
       "    </td>\n",
       "    <td class=\"task_status\">\n",
       "      <pre><i class=\"fa fa-fw fa-tasks\"></i><span id=\"status_text_mini_1b14ddee8d472c21_f58271e81b6445fe84f589d830f58004\">completed</span></pre>\n",
       "    </td>\n",
       "</tr>\n",
       "</table>\n"
      ]
     },
     "metadata": {},
     "output_type": "display_data"
    },
    {
     "data": {
      "text/html": [
       "\n",
       "<table id=\"task_mini_a0898fa79770e988_f58271e81b6445fe84f589d830f58004\" class=\"task_table completed\">\n",
       "<tr>\n",
       "    <td class=\"task_icon\">\n",
       "      <i id=\"task_status_icon_mini_a0898fa79770e988_f58271e81b6445fe84f589d830f58004\" class=\"fa fa-2x fa-fw fa-check-square-o\"</i>\n",
       "    </td>\n",
       "    <td class=\"task_id\">\n",
       "      <span><pre><i class=\"fa fa-fw fa-sitemap\"></i></pre><pre>a0898fa79770e988<div class=\"task_id_actions\"><i class=\"fa fa-fw fa-refresh\" onclick=\"task_action({action:'status', task:'a0898fa79770e988', queue: 'mini'})\"></i><i class=\"fa fa-fw fa-play\" onclick=\"task_action({action:'execute', task:'a0898fa79770e988', queue: 'mini'})\"></i><i class=\"fa fa-fw fa-stop\"\" onclick=\"task_action({action:'kill', task:'a0898fa79770e988', queue: 'mini'})\"></i><i class=\"fa fa-fw fa-trash\"\" onclick=\"task_action({action:'purge', task:'a0898fa79770e988', queue: 'mini'})\"></i></div></pre></span>\n",
       "    </td>\n",
       "    <td class=\"task_tags\">\n",
       "      <span id=\"status_tags_mini_a0898fa79770e988_f58271e81b6445fe84f589d830f58004\"><pre><i class=\"fa fa-fw fa-info-circle\"></i></pre><pre class=\"task_tags task_tag_COVID-simulation\">COVID-simulation<div class=\"task_tag_actions\"><i class=\"fa fa-fw fa-refresh\" onclick=\"task_action({action:'status', tag:'COVID-simulation', queue: 'mini'})\"></i><i class=\"fa fa-fw fa-stop\"\" onclick=\"task_action({action:'kill', tag:'COVID-simulation', queue: 'mini'})\"></i><i class=\"fa fa-fw fa-trash\"\" onclick=\"task_action({action:'purge', tag:'COVID-simulation', queue: 'mini'})\"></i></div></pre><pre class=\"task_tags task_tag_dc16cf4dda77be91\">dc16cf4dda77be91<div class=\"task_tag_actions\"><i class=\"fa fa-fw fa-refresh\" onclick=\"task_action({action:'status', tag:'dc16cf4dda77be91', queue: 'mini'})\"></i><i class=\"fa fa-fw fa-stop\"\" onclick=\"task_action({action:'kill', tag:'dc16cf4dda77be91', queue: 'mini'})\"></i><i class=\"fa fa-fw fa-trash\"\" onclick=\"task_action({action:'purge', tag:'dc16cf4dda77be91', queue: 'mini'})\"></i></div></pre><pre class=\"task_tags task_tag_scratch_0\">scratch_0<div class=\"task_tag_actions\"><i class=\"fa fa-fw fa-refresh\" onclick=\"task_action({action:'status', tag:'scratch_0', queue: 'mini'})\"></i><i class=\"fa fa-fw fa-stop\"\" onclick=\"task_action({action:'kill', tag:'scratch_0', queue: 'mini'})\"></i><i class=\"fa fa-fw fa-trash\"\" onclick=\"task_action({action:'purge', tag:'scratch_0', queue: 'mini'})\"></i></div></pre></span>\n",
       "    </td>\n",
       "    <td class=\"task_timer\">\n",
       "      <pre><i class=\"fa fa-fw fa-clock-o\"></i><time id=\"status_duration_mini_a0898fa79770e988_f58271e81b6445fe84f589d830f58004\" class=\"completed\" datetime=\"1596729363484.503\">Ran for < 5 seconds</time></pre>\n",
       "    </td>\n",
       "    <td class=\"task_status\">\n",
       "      <pre><i class=\"fa fa-fw fa-tasks\"></i><span id=\"status_text_mini_a0898fa79770e988_f58271e81b6445fe84f589d830f58004\">completed</span></pre>\n",
       "    </td>\n",
       "</tr>\n",
       "</table>\n"
      ]
     },
     "metadata": {},
     "output_type": "display_data"
    },
    {
     "data": {
      "text/html": [
       "\n",
       "<table id=\"task_mini_b842387f51025912_f58271e81b6445fe84f589d830f58004\" class=\"task_table completed\">\n",
       "<tr>\n",
       "    <td class=\"task_icon\">\n",
       "      <i id=\"task_status_icon_mini_b842387f51025912_f58271e81b6445fe84f589d830f58004\" class=\"fa fa-2x fa-fw fa-check-square-o\"</i>\n",
       "    </td>\n",
       "    <td class=\"task_id\">\n",
       "      <span><pre><i class=\"fa fa-fw fa-sitemap\"></i></pre><pre>b842387f51025912<div class=\"task_id_actions\"><i class=\"fa fa-fw fa-refresh\" onclick=\"task_action({action:'status', task:'b842387f51025912', queue: 'mini'})\"></i><i class=\"fa fa-fw fa-play\" onclick=\"task_action({action:'execute', task:'b842387f51025912', queue: 'mini'})\"></i><i class=\"fa fa-fw fa-stop\"\" onclick=\"task_action({action:'kill', task:'b842387f51025912', queue: 'mini'})\"></i><i class=\"fa fa-fw fa-trash\"\" onclick=\"task_action({action:'purge', task:'b842387f51025912', queue: 'mini'})\"></i></div></pre></span>\n",
       "    </td>\n",
       "    <td class=\"task_tags\">\n",
       "      <span id=\"status_tags_mini_b842387f51025912_f58271e81b6445fe84f589d830f58004\"><pre><i class=\"fa fa-fw fa-info-circle\"></i></pre><pre class=\"task_tags task_tag_COVID-simulation\">COVID-simulation<div class=\"task_tag_actions\"><i class=\"fa fa-fw fa-refresh\" onclick=\"task_action({action:'status', tag:'COVID-simulation', queue: 'mini'})\"></i><i class=\"fa fa-fw fa-stop\"\" onclick=\"task_action({action:'kill', tag:'COVID-simulation', queue: 'mini'})\"></i><i class=\"fa fa-fw fa-trash\"\" onclick=\"task_action({action:'purge', tag:'COVID-simulation', queue: 'mini'})\"></i></div></pre><pre class=\"task_tags task_tag_dc16cf4dda77be91\">dc16cf4dda77be91<div class=\"task_tag_actions\"><i class=\"fa fa-fw fa-refresh\" onclick=\"task_action({action:'status', tag:'dc16cf4dda77be91', queue: 'mini'})\"></i><i class=\"fa fa-fw fa-stop\"\" onclick=\"task_action({action:'kill', tag:'dc16cf4dda77be91', queue: 'mini'})\"></i><i class=\"fa fa-fw fa-trash\"\" onclick=\"task_action({action:'purge', tag:'dc16cf4dda77be91', queue: 'mini'})\"></i></div></pre><pre class=\"task_tags task_tag_scratch_0\">scratch_0<div class=\"task_tag_actions\"><i class=\"fa fa-fw fa-refresh\" onclick=\"task_action({action:'status', tag:'scratch_0', queue: 'mini'})\"></i><i class=\"fa fa-fw fa-stop\"\" onclick=\"task_action({action:'kill', tag:'scratch_0', queue: 'mini'})\"></i><i class=\"fa fa-fw fa-trash\"\" onclick=\"task_action({action:'purge', tag:'scratch_0', queue: 'mini'})\"></i></div></pre></span>\n",
       "    </td>\n",
       "    <td class=\"task_timer\">\n",
       "      <pre><i class=\"fa fa-fw fa-clock-o\"></i><time id=\"status_duration_mini_b842387f51025912_f58271e81b6445fe84f589d830f58004\" class=\"completed\" datetime=\"1596729477080.012\">Ran for < 5 seconds</time></pre>\n",
       "    </td>\n",
       "    <td class=\"task_status\">\n",
       "      <pre><i class=\"fa fa-fw fa-tasks\"></i><span id=\"status_text_mini_b842387f51025912_f58271e81b6445fe84f589d830f58004\">completed</span></pre>\n",
       "    </td>\n",
       "</tr>\n",
       "</table>\n"
      ]
     },
     "metadata": {},
     "output_type": "display_data"
    },
    {
     "data": {
      "text/html": [
       "\n",
       "<table id=\"task_mini_a59c3630df71c29d_f58271e81b6445fe84f589d830f58004\" class=\"task_table completed\">\n",
       "<tr>\n",
       "    <td class=\"task_icon\">\n",
       "      <i id=\"task_status_icon_mini_a59c3630df71c29d_f58271e81b6445fe84f589d830f58004\" class=\"fa fa-2x fa-fw fa-check-square-o\"</i>\n",
       "    </td>\n",
       "    <td class=\"task_id\">\n",
       "      <span><pre><i class=\"fa fa-fw fa-sitemap\"></i></pre><pre>a59c3630df71c29d<div class=\"task_id_actions\"><i class=\"fa fa-fw fa-refresh\" onclick=\"task_action({action:'status', task:'a59c3630df71c29d', queue: 'mini'})\"></i><i class=\"fa fa-fw fa-play\" onclick=\"task_action({action:'execute', task:'a59c3630df71c29d', queue: 'mini'})\"></i><i class=\"fa fa-fw fa-stop\"\" onclick=\"task_action({action:'kill', task:'a59c3630df71c29d', queue: 'mini'})\"></i><i class=\"fa fa-fw fa-trash\"\" onclick=\"task_action({action:'purge', task:'a59c3630df71c29d', queue: 'mini'})\"></i></div></pre></span>\n",
       "    </td>\n",
       "    <td class=\"task_tags\">\n",
       "      <span id=\"status_tags_mini_a59c3630df71c29d_f58271e81b6445fe84f589d830f58004\"><pre><i class=\"fa fa-fw fa-info-circle\"></i></pre><pre class=\"task_tags task_tag_COVID-simulation\">COVID-simulation<div class=\"task_tag_actions\"><i class=\"fa fa-fw fa-refresh\" onclick=\"task_action({action:'status', tag:'COVID-simulation', queue: 'mini'})\"></i><i class=\"fa fa-fw fa-stop\"\" onclick=\"task_action({action:'kill', tag:'COVID-simulation', queue: 'mini'})\"></i><i class=\"fa fa-fw fa-trash\"\" onclick=\"task_action({action:'purge', tag:'COVID-simulation', queue: 'mini'})\"></i></div></pre><pre class=\"task_tags task_tag_dc16cf4dda77be91\">dc16cf4dda77be91<div class=\"task_tag_actions\"><i class=\"fa fa-fw fa-refresh\" onclick=\"task_action({action:'status', tag:'dc16cf4dda77be91', queue: 'mini'})\"></i><i class=\"fa fa-fw fa-stop\"\" onclick=\"task_action({action:'kill', tag:'dc16cf4dda77be91', queue: 'mini'})\"></i><i class=\"fa fa-fw fa-trash\"\" onclick=\"task_action({action:'purge', tag:'dc16cf4dda77be91', queue: 'mini'})\"></i></div></pre><pre class=\"task_tags task_tag_scratch_0\">scratch_0<div class=\"task_tag_actions\"><i class=\"fa fa-fw fa-refresh\" onclick=\"task_action({action:'status', tag:'scratch_0', queue: 'mini'})\"></i><i class=\"fa fa-fw fa-stop\"\" onclick=\"task_action({action:'kill', tag:'scratch_0', queue: 'mini'})\"></i><i class=\"fa fa-fw fa-trash\"\" onclick=\"task_action({action:'purge', tag:'scratch_0', queue: 'mini'})\"></i></div></pre></span>\n",
       "    </td>\n",
       "    <td class=\"task_timer\">\n",
       "      <pre><i class=\"fa fa-fw fa-clock-o\"></i><time id=\"status_duration_mini_a59c3630df71c29d_f58271e81b6445fe84f589d830f58004\" class=\"completed\" datetime=\"1596729624879.03\">Ran for < 5 seconds</time></pre>\n",
       "    </td>\n",
       "    <td class=\"task_status\">\n",
       "      <pre><i class=\"fa fa-fw fa-tasks\"></i><span id=\"status_text_mini_a59c3630df71c29d_f58271e81b6445fe84f589d830f58004\">completed</span></pre>\n",
       "    </td>\n",
       "</tr>\n",
       "</table>\n"
      ]
     },
     "metadata": {},
     "output_type": "display_data"
    },
    {
     "data": {
      "text/html": [
       "\n",
       "<table id=\"task_mini_f64029d1209eb8bd_f58271e81b6445fe84f589d830f58004\" class=\"task_table completed\">\n",
       "<tr>\n",
       "    <td class=\"task_icon\">\n",
       "      <i id=\"task_status_icon_mini_f64029d1209eb8bd_f58271e81b6445fe84f589d830f58004\" class=\"fa fa-2x fa-fw fa-check-square-o\"</i>\n",
       "    </td>\n",
       "    <td class=\"task_id\">\n",
       "      <span><pre><i class=\"fa fa-fw fa-sitemap\"></i></pre><pre>f64029d1209eb8bd<div class=\"task_id_actions\"><i class=\"fa fa-fw fa-refresh\" onclick=\"task_action({action:'status', task:'f64029d1209eb8bd', queue: 'mini'})\"></i><i class=\"fa fa-fw fa-play\" onclick=\"task_action({action:'execute', task:'f64029d1209eb8bd', queue: 'mini'})\"></i><i class=\"fa fa-fw fa-stop\"\" onclick=\"task_action({action:'kill', task:'f64029d1209eb8bd', queue: 'mini'})\"></i><i class=\"fa fa-fw fa-trash\"\" onclick=\"task_action({action:'purge', task:'f64029d1209eb8bd', queue: 'mini'})\"></i></div></pre></span>\n",
       "    </td>\n",
       "    <td class=\"task_tags\">\n",
       "      <span id=\"status_tags_mini_f64029d1209eb8bd_f58271e81b6445fe84f589d830f58004\"><pre><i class=\"fa fa-fw fa-info-circle\"></i></pre><pre class=\"task_tags task_tag_COVID-simulation\">COVID-simulation<div class=\"task_tag_actions\"><i class=\"fa fa-fw fa-refresh\" onclick=\"task_action({action:'status', tag:'COVID-simulation', queue: 'mini'})\"></i><i class=\"fa fa-fw fa-stop\"\" onclick=\"task_action({action:'kill', tag:'COVID-simulation', queue: 'mini'})\"></i><i class=\"fa fa-fw fa-trash\"\" onclick=\"task_action({action:'purge', tag:'COVID-simulation', queue: 'mini'})\"></i></div></pre><pre class=\"task_tags task_tag_dc16cf4dda77be91\">dc16cf4dda77be91<div class=\"task_tag_actions\"><i class=\"fa fa-fw fa-refresh\" onclick=\"task_action({action:'status', tag:'dc16cf4dda77be91', queue: 'mini'})\"></i><i class=\"fa fa-fw fa-stop\"\" onclick=\"task_action({action:'kill', tag:'dc16cf4dda77be91', queue: 'mini'})\"></i><i class=\"fa fa-fw fa-trash\"\" onclick=\"task_action({action:'purge', tag:'dc16cf4dda77be91', queue: 'mini'})\"></i></div></pre><pre class=\"task_tags task_tag_scratch_0\">scratch_0<div class=\"task_tag_actions\"><i class=\"fa fa-fw fa-refresh\" onclick=\"task_action({action:'status', tag:'scratch_0', queue: 'mini'})\"></i><i class=\"fa fa-fw fa-stop\"\" onclick=\"task_action({action:'kill', tag:'scratch_0', queue: 'mini'})\"></i><i class=\"fa fa-fw fa-trash\"\" onclick=\"task_action({action:'purge', tag:'scratch_0', queue: 'mini'})\"></i></div></pre></span>\n",
       "    </td>\n",
       "    <td class=\"task_timer\">\n",
       "      <pre><i class=\"fa fa-fw fa-clock-o\"></i><time id=\"status_duration_mini_f64029d1209eb8bd_f58271e81b6445fe84f589d830f58004\" class=\"completed\" datetime=\"1596729724166.071\">Ran for < 5 seconds</time></pre>\n",
       "    </td>\n",
       "    <td class=\"task_status\">\n",
       "      <pre><i class=\"fa fa-fw fa-tasks\"></i><span id=\"status_text_mini_f64029d1209eb8bd_f58271e81b6445fe84f589d830f58004\">completed</span></pre>\n",
       "    </td>\n",
       "</tr>\n",
       "</table>\n"
      ]
     },
     "metadata": {},
     "output_type": "display_data"
    },
    {
     "data": {
      "text/html": [
       "\n",
       "<table id=\"task_mini_22c5f28b118a6770_f58271e81b6445fe84f589d830f58004\" class=\"task_table completed\">\n",
       "<tr>\n",
       "    <td class=\"task_icon\">\n",
       "      <i id=\"task_status_icon_mini_22c5f28b118a6770_f58271e81b6445fe84f589d830f58004\" class=\"fa fa-2x fa-fw fa-check-square-o\"</i>\n",
       "    </td>\n",
       "    <td class=\"task_id\">\n",
       "      <span><pre><i class=\"fa fa-fw fa-sitemap\"></i></pre><pre>22c5f28b118a6770<div class=\"task_id_actions\"><i class=\"fa fa-fw fa-refresh\" onclick=\"task_action({action:'status', task:'22c5f28b118a6770', queue: 'mini'})\"></i><i class=\"fa fa-fw fa-play\" onclick=\"task_action({action:'execute', task:'22c5f28b118a6770', queue: 'mini'})\"></i><i class=\"fa fa-fw fa-stop\"\" onclick=\"task_action({action:'kill', task:'22c5f28b118a6770', queue: 'mini'})\"></i><i class=\"fa fa-fw fa-trash\"\" onclick=\"task_action({action:'purge', task:'22c5f28b118a6770', queue: 'mini'})\"></i></div></pre></span>\n",
       "    </td>\n",
       "    <td class=\"task_tags\">\n",
       "      <span id=\"status_tags_mini_22c5f28b118a6770_f58271e81b6445fe84f589d830f58004\"><pre><i class=\"fa fa-fw fa-info-circle\"></i></pre><pre class=\"task_tags task_tag_COVID-simulation\">COVID-simulation<div class=\"task_tag_actions\"><i class=\"fa fa-fw fa-refresh\" onclick=\"task_action({action:'status', tag:'COVID-simulation', queue: 'mini'})\"></i><i class=\"fa fa-fw fa-stop\"\" onclick=\"task_action({action:'kill', tag:'COVID-simulation', queue: 'mini'})\"></i><i class=\"fa fa-fw fa-trash\"\" onclick=\"task_action({action:'purge', tag:'COVID-simulation', queue: 'mini'})\"></i></div></pre><pre class=\"task_tags task_tag_dc16cf4dda77be91\">dc16cf4dda77be91<div class=\"task_tag_actions\"><i class=\"fa fa-fw fa-refresh\" onclick=\"task_action({action:'status', tag:'dc16cf4dda77be91', queue: 'mini'})\"></i><i class=\"fa fa-fw fa-stop\"\" onclick=\"task_action({action:'kill', tag:'dc16cf4dda77be91', queue: 'mini'})\"></i><i class=\"fa fa-fw fa-trash\"\" onclick=\"task_action({action:'purge', tag:'dc16cf4dda77be91', queue: 'mini'})\"></i></div></pre><pre class=\"task_tags task_tag_scratch_0\">scratch_0<div class=\"task_tag_actions\"><i class=\"fa fa-fw fa-refresh\" onclick=\"task_action({action:'status', tag:'scratch_0', queue: 'mini'})\"></i><i class=\"fa fa-fw fa-stop\"\" onclick=\"task_action({action:'kill', tag:'scratch_0', queue: 'mini'})\"></i><i class=\"fa fa-fw fa-trash\"\" onclick=\"task_action({action:'purge', tag:'scratch_0', queue: 'mini'})\"></i></div></pre></span>\n",
       "    </td>\n",
       "    <td class=\"task_timer\">\n",
       "      <pre><i class=\"fa fa-fw fa-clock-o\"></i><time id=\"status_duration_mini_22c5f28b118a6770_f58271e81b6445fe84f589d830f58004\" class=\"completed\" datetime=\"1596729831397.741\">Ran for < 5 seconds</time></pre>\n",
       "    </td>\n",
       "    <td class=\"task_status\">\n",
       "      <pre><i class=\"fa fa-fw fa-tasks\"></i><span id=\"status_text_mini_22c5f28b118a6770_f58271e81b6445fe84f589d830f58004\">completed</span></pre>\n",
       "    </td>\n",
       "</tr>\n",
       "</table>\n"
      ]
     },
     "metadata": {},
     "output_type": "display_data"
    },
    {
     "data": {
      "text/html": [
       "\n",
       "<table id=\"task_mini_fdc9ca34829016c9_f58271e81b6445fe84f589d830f58004\" class=\"task_table completed\">\n",
       "<tr>\n",
       "    <td class=\"task_icon\">\n",
       "      <i id=\"task_status_icon_mini_fdc9ca34829016c9_f58271e81b6445fe84f589d830f58004\" class=\"fa fa-2x fa-fw fa-check-square-o\"</i>\n",
       "    </td>\n",
       "    <td class=\"task_id\">\n",
       "      <span><pre><i class=\"fa fa-fw fa-sitemap\"></i></pre><pre>fdc9ca34829016c9<div class=\"task_id_actions\"><i class=\"fa fa-fw fa-refresh\" onclick=\"task_action({action:'status', task:'fdc9ca34829016c9', queue: 'mini'})\"></i><i class=\"fa fa-fw fa-play\" onclick=\"task_action({action:'execute', task:'fdc9ca34829016c9', queue: 'mini'})\"></i><i class=\"fa fa-fw fa-stop\"\" onclick=\"task_action({action:'kill', task:'fdc9ca34829016c9', queue: 'mini'})\"></i><i class=\"fa fa-fw fa-trash\"\" onclick=\"task_action({action:'purge', task:'fdc9ca34829016c9', queue: 'mini'})\"></i></div></pre></span>\n",
       "    </td>\n",
       "    <td class=\"task_tags\">\n",
       "      <span id=\"status_tags_mini_fdc9ca34829016c9_f58271e81b6445fe84f589d830f58004\"><pre><i class=\"fa fa-fw fa-info-circle\"></i></pre><pre class=\"task_tags task_tag_COVID-simulation\">COVID-simulation<div class=\"task_tag_actions\"><i class=\"fa fa-fw fa-refresh\" onclick=\"task_action({action:'status', tag:'COVID-simulation', queue: 'mini'})\"></i><i class=\"fa fa-fw fa-stop\"\" onclick=\"task_action({action:'kill', tag:'COVID-simulation', queue: 'mini'})\"></i><i class=\"fa fa-fw fa-trash\"\" onclick=\"task_action({action:'purge', tag:'COVID-simulation', queue: 'mini'})\"></i></div></pre><pre class=\"task_tags task_tag_dc16cf4dda77be91\">dc16cf4dda77be91<div class=\"task_tag_actions\"><i class=\"fa fa-fw fa-refresh\" onclick=\"task_action({action:'status', tag:'dc16cf4dda77be91', queue: 'mini'})\"></i><i class=\"fa fa-fw fa-stop\"\" onclick=\"task_action({action:'kill', tag:'dc16cf4dda77be91', queue: 'mini'})\"></i><i class=\"fa fa-fw fa-trash\"\" onclick=\"task_action({action:'purge', tag:'dc16cf4dda77be91', queue: 'mini'})\"></i></div></pre><pre class=\"task_tags task_tag_scratch_0\">scratch_0<div class=\"task_tag_actions\"><i class=\"fa fa-fw fa-refresh\" onclick=\"task_action({action:'status', tag:'scratch_0', queue: 'mini'})\"></i><i class=\"fa fa-fw fa-stop\"\" onclick=\"task_action({action:'kill', tag:'scratch_0', queue: 'mini'})\"></i><i class=\"fa fa-fw fa-trash\"\" onclick=\"task_action({action:'purge', tag:'scratch_0', queue: 'mini'})\"></i></div></pre></span>\n",
       "    </td>\n",
       "    <td class=\"task_timer\">\n",
       "      <pre><i class=\"fa fa-fw fa-clock-o\"></i><time id=\"status_duration_mini_fdc9ca34829016c9_f58271e81b6445fe84f589d830f58004\" class=\"completed\" datetime=\"1596729985217.299\">Ran for < 5 seconds</time></pre>\n",
       "    </td>\n",
       "    <td class=\"task_status\">\n",
       "      <pre><i class=\"fa fa-fw fa-tasks\"></i><span id=\"status_text_mini_fdc9ca34829016c9_f58271e81b6445fe84f589d830f58004\">completed</span></pre>\n",
       "    </td>\n",
       "</tr>\n",
       "</table>\n"
      ]
     },
     "metadata": {},
     "output_type": "display_data"
    },
    {
     "data": {
      "text/html": [
       "\n",
       "<table id=\"task_mini_32172e6836f1e92b_f58271e81b6445fe84f589d830f58004\" class=\"task_table completed\">\n",
       "<tr>\n",
       "    <td class=\"task_icon\">\n",
       "      <i id=\"task_status_icon_mini_32172e6836f1e92b_f58271e81b6445fe84f589d830f58004\" class=\"fa fa-2x fa-fw fa-check-square-o\"</i>\n",
       "    </td>\n",
       "    <td class=\"task_id\">\n",
       "      <span><pre><i class=\"fa fa-fw fa-sitemap\"></i></pre><pre>32172e6836f1e92b<div class=\"task_id_actions\"><i class=\"fa fa-fw fa-refresh\" onclick=\"task_action({action:'status', task:'32172e6836f1e92b', queue: 'mini'})\"></i><i class=\"fa fa-fw fa-play\" onclick=\"task_action({action:'execute', task:'32172e6836f1e92b', queue: 'mini'})\"></i><i class=\"fa fa-fw fa-stop\"\" onclick=\"task_action({action:'kill', task:'32172e6836f1e92b', queue: 'mini'})\"></i><i class=\"fa fa-fw fa-trash\"\" onclick=\"task_action({action:'purge', task:'32172e6836f1e92b', queue: 'mini'})\"></i></div></pre></span>\n",
       "    </td>\n",
       "    <td class=\"task_tags\">\n",
       "      <span id=\"status_tags_mini_32172e6836f1e92b_f58271e81b6445fe84f589d830f58004\"><pre><i class=\"fa fa-fw fa-info-circle\"></i></pre><pre class=\"task_tags task_tag_COVID-simulation\">COVID-simulation<div class=\"task_tag_actions\"><i class=\"fa fa-fw fa-refresh\" onclick=\"task_action({action:'status', tag:'COVID-simulation', queue: 'mini'})\"></i><i class=\"fa fa-fw fa-stop\"\" onclick=\"task_action({action:'kill', tag:'COVID-simulation', queue: 'mini'})\"></i><i class=\"fa fa-fw fa-trash\"\" onclick=\"task_action({action:'purge', tag:'COVID-simulation', queue: 'mini'})\"></i></div></pre><pre class=\"task_tags task_tag_dc16cf4dda77be91\">dc16cf4dda77be91<div class=\"task_tag_actions\"><i class=\"fa fa-fw fa-refresh\" onclick=\"task_action({action:'status', tag:'dc16cf4dda77be91', queue: 'mini'})\"></i><i class=\"fa fa-fw fa-stop\"\" onclick=\"task_action({action:'kill', tag:'dc16cf4dda77be91', queue: 'mini'})\"></i><i class=\"fa fa-fw fa-trash\"\" onclick=\"task_action({action:'purge', tag:'dc16cf4dda77be91', queue: 'mini'})\"></i></div></pre><pre class=\"task_tags task_tag_scratch_0\">scratch_0<div class=\"task_tag_actions\"><i class=\"fa fa-fw fa-refresh\" onclick=\"task_action({action:'status', tag:'scratch_0', queue: 'mini'})\"></i><i class=\"fa fa-fw fa-stop\"\" onclick=\"task_action({action:'kill', tag:'scratch_0', queue: 'mini'})\"></i><i class=\"fa fa-fw fa-trash\"\" onclick=\"task_action({action:'purge', tag:'scratch_0', queue: 'mini'})\"></i></div></pre></span>\n",
       "    </td>\n",
       "    <td class=\"task_timer\">\n",
       "      <pre><i class=\"fa fa-fw fa-clock-o\"></i><time id=\"status_duration_mini_32172e6836f1e92b_f58271e81b6445fe84f589d830f58004\" class=\"completed\" datetime=\"1596730162265.52\">Ran for < 5 seconds</time></pre>\n",
       "    </td>\n",
       "    <td class=\"task_status\">\n",
       "      <pre><i class=\"fa fa-fw fa-tasks\"></i><span id=\"status_text_mini_32172e6836f1e92b_f58271e81b6445fe84f589d830f58004\">completed</span></pre>\n",
       "    </td>\n",
       "</tr>\n",
       "</table>\n"
      ]
     },
     "metadata": {},
     "output_type": "display_data"
    },
    {
     "data": {
      "text/html": [
       "\n",
       "<table id=\"task_mini_c36096dd2a0ae9ee_f58271e81b6445fe84f589d830f58004\" class=\"task_table completed\">\n",
       "<tr>\n",
       "    <td class=\"task_icon\">\n",
       "      <i id=\"task_status_icon_mini_c36096dd2a0ae9ee_f58271e81b6445fe84f589d830f58004\" class=\"fa fa-2x fa-fw fa-check-square-o\"</i>\n",
       "    </td>\n",
       "    <td class=\"task_id\">\n",
       "      <span><pre><i class=\"fa fa-fw fa-sitemap\"></i></pre><pre>c36096dd2a0ae9ee<div class=\"task_id_actions\"><i class=\"fa fa-fw fa-refresh\" onclick=\"task_action({action:'status', task:'c36096dd2a0ae9ee', queue: 'mini'})\"></i><i class=\"fa fa-fw fa-play\" onclick=\"task_action({action:'execute', task:'c36096dd2a0ae9ee', queue: 'mini'})\"></i><i class=\"fa fa-fw fa-stop\"\" onclick=\"task_action({action:'kill', task:'c36096dd2a0ae9ee', queue: 'mini'})\"></i><i class=\"fa fa-fw fa-trash\"\" onclick=\"task_action({action:'purge', task:'c36096dd2a0ae9ee', queue: 'mini'})\"></i></div></pre></span>\n",
       "    </td>\n",
       "    <td class=\"task_tags\">\n",
       "      <span id=\"status_tags_mini_c36096dd2a0ae9ee_f58271e81b6445fe84f589d830f58004\"><pre><i class=\"fa fa-fw fa-info-circle\"></i></pre><pre class=\"task_tags task_tag_COVID-simulation\">COVID-simulation<div class=\"task_tag_actions\"><i class=\"fa fa-fw fa-refresh\" onclick=\"task_action({action:'status', tag:'COVID-simulation', queue: 'mini'})\"></i><i class=\"fa fa-fw fa-stop\"\" onclick=\"task_action({action:'kill', tag:'COVID-simulation', queue: 'mini'})\"></i><i class=\"fa fa-fw fa-trash\"\" onclick=\"task_action({action:'purge', tag:'COVID-simulation', queue: 'mini'})\"></i></div></pre><pre class=\"task_tags task_tag_dc16cf4dda77be91\">dc16cf4dda77be91<div class=\"task_tag_actions\"><i class=\"fa fa-fw fa-refresh\" onclick=\"task_action({action:'status', tag:'dc16cf4dda77be91', queue: 'mini'})\"></i><i class=\"fa fa-fw fa-stop\"\" onclick=\"task_action({action:'kill', tag:'dc16cf4dda77be91', queue: 'mini'})\"></i><i class=\"fa fa-fw fa-trash\"\" onclick=\"task_action({action:'purge', tag:'dc16cf4dda77be91', queue: 'mini'})\"></i></div></pre><pre class=\"task_tags task_tag_scratch_0\">scratch_0<div class=\"task_tag_actions\"><i class=\"fa fa-fw fa-refresh\" onclick=\"task_action({action:'status', tag:'scratch_0', queue: 'mini'})\"></i><i class=\"fa fa-fw fa-stop\"\" onclick=\"task_action({action:'kill', tag:'scratch_0', queue: 'mini'})\"></i><i class=\"fa fa-fw fa-trash\"\" onclick=\"task_action({action:'purge', tag:'scratch_0', queue: 'mini'})\"></i></div></pre></span>\n",
       "    </td>\n",
       "    <td class=\"task_timer\">\n",
       "      <pre><i class=\"fa fa-fw fa-clock-o\"></i><time id=\"status_duration_mini_c36096dd2a0ae9ee_f58271e81b6445fe84f589d830f58004\" class=\"completed\" datetime=\"1596730219861.4568\">Ran for < 5 seconds</time></pre>\n",
       "    </td>\n",
       "    <td class=\"task_status\">\n",
       "      <pre><i class=\"fa fa-fw fa-tasks\"></i><span id=\"status_text_mini_c36096dd2a0ae9ee_f58271e81b6445fe84f589d830f58004\">completed</span></pre>\n",
       "    </td>\n",
       "</tr>\n",
       "</table>\n"
      ]
     },
     "metadata": {},
     "output_type": "display_data"
    },
    {
     "data": {
      "text/html": [
       "\n",
       "<table id=\"task_mini_cfa6301c4296d123_f58271e81b6445fe84f589d830f58004\" class=\"task_table completed\">\n",
       "<tr>\n",
       "    <td class=\"task_icon\">\n",
       "      <i id=\"task_status_icon_mini_cfa6301c4296d123_f58271e81b6445fe84f589d830f58004\" class=\"fa fa-2x fa-fw fa-check-square-o\"</i>\n",
       "    </td>\n",
       "    <td class=\"task_id\">\n",
       "      <span><pre><i class=\"fa fa-fw fa-sitemap\"></i></pre><pre>cfa6301c4296d123<div class=\"task_id_actions\"><i class=\"fa fa-fw fa-refresh\" onclick=\"task_action({action:'status', task:'cfa6301c4296d123', queue: 'mini'})\"></i><i class=\"fa fa-fw fa-play\" onclick=\"task_action({action:'execute', task:'cfa6301c4296d123', queue: 'mini'})\"></i><i class=\"fa fa-fw fa-stop\"\" onclick=\"task_action({action:'kill', task:'cfa6301c4296d123', queue: 'mini'})\"></i><i class=\"fa fa-fw fa-trash\"\" onclick=\"task_action({action:'purge', task:'cfa6301c4296d123', queue: 'mini'})\"></i></div></pre></span>\n",
       "    </td>\n",
       "    <td class=\"task_tags\">\n",
       "      <span id=\"status_tags_mini_cfa6301c4296d123_f58271e81b6445fe84f589d830f58004\"><pre><i class=\"fa fa-fw fa-info-circle\"></i></pre><pre class=\"task_tags task_tag_COVID-simulation\">COVID-simulation<div class=\"task_tag_actions\"><i class=\"fa fa-fw fa-refresh\" onclick=\"task_action({action:'status', tag:'COVID-simulation', queue: 'mini'})\"></i><i class=\"fa fa-fw fa-stop\"\" onclick=\"task_action({action:'kill', tag:'COVID-simulation', queue: 'mini'})\"></i><i class=\"fa fa-fw fa-trash\"\" onclick=\"task_action({action:'purge', tag:'COVID-simulation', queue: 'mini'})\"></i></div></pre><pre class=\"task_tags task_tag_dc16cf4dda77be91\">dc16cf4dda77be91<div class=\"task_tag_actions\"><i class=\"fa fa-fw fa-refresh\" onclick=\"task_action({action:'status', tag:'dc16cf4dda77be91', queue: 'mini'})\"></i><i class=\"fa fa-fw fa-stop\"\" onclick=\"task_action({action:'kill', tag:'dc16cf4dda77be91', queue: 'mini'})\"></i><i class=\"fa fa-fw fa-trash\"\" onclick=\"task_action({action:'purge', tag:'dc16cf4dda77be91', queue: 'mini'})\"></i></div></pre><pre class=\"task_tags task_tag_scratch_0\">scratch_0<div class=\"task_tag_actions\"><i class=\"fa fa-fw fa-refresh\" onclick=\"task_action({action:'status', tag:'scratch_0', queue: 'mini'})\"></i><i class=\"fa fa-fw fa-stop\"\" onclick=\"task_action({action:'kill', tag:'scratch_0', queue: 'mini'})\"></i><i class=\"fa fa-fw fa-trash\"\" onclick=\"task_action({action:'purge', tag:'scratch_0', queue: 'mini'})\"></i></div></pre></span>\n",
       "    </td>\n",
       "    <td class=\"task_timer\">\n",
       "      <pre><i class=\"fa fa-fw fa-clock-o\"></i><time id=\"status_duration_mini_cfa6301c4296d123_f58271e81b6445fe84f589d830f58004\" class=\"completed\" datetime=\"1596730297766.483\">Ran for < 5 seconds</time></pre>\n",
       "    </td>\n",
       "    <td class=\"task_status\">\n",
       "      <pre><i class=\"fa fa-fw fa-tasks\"></i><span id=\"status_text_mini_cfa6301c4296d123_f58271e81b6445fe84f589d830f58004\">completed</span></pre>\n",
       "    </td>\n",
       "</tr>\n",
       "</table>\n"
      ]
     },
     "metadata": {},
     "output_type": "display_data"
    },
    {
     "data": {
      "text/html": [
       "\n",
       "<table id=\"task_mini_1f98b091a9ac4ad3_f58271e81b6445fe84f589d830f58004\" class=\"task_table completed\">\n",
       "<tr>\n",
       "    <td class=\"task_icon\">\n",
       "      <i id=\"task_status_icon_mini_1f98b091a9ac4ad3_f58271e81b6445fe84f589d830f58004\" class=\"fa fa-2x fa-fw fa-check-square-o\"</i>\n",
       "    </td>\n",
       "    <td class=\"task_id\">\n",
       "      <span><pre><i class=\"fa fa-fw fa-sitemap\"></i></pre><pre>1f98b091a9ac4ad3<div class=\"task_id_actions\"><i class=\"fa fa-fw fa-refresh\" onclick=\"task_action({action:'status', task:'1f98b091a9ac4ad3', queue: 'mini'})\"></i><i class=\"fa fa-fw fa-play\" onclick=\"task_action({action:'execute', task:'1f98b091a9ac4ad3', queue: 'mini'})\"></i><i class=\"fa fa-fw fa-stop\"\" onclick=\"task_action({action:'kill', task:'1f98b091a9ac4ad3', queue: 'mini'})\"></i><i class=\"fa fa-fw fa-trash\"\" onclick=\"task_action({action:'purge', task:'1f98b091a9ac4ad3', queue: 'mini'})\"></i></div></pre></span>\n",
       "    </td>\n",
       "    <td class=\"task_tags\">\n",
       "      <span id=\"status_tags_mini_1f98b091a9ac4ad3_f58271e81b6445fe84f589d830f58004\"><pre><i class=\"fa fa-fw fa-info-circle\"></i></pre><pre class=\"task_tags task_tag_COVID-simulation\">COVID-simulation<div class=\"task_tag_actions\"><i class=\"fa fa-fw fa-refresh\" onclick=\"task_action({action:'status', tag:'COVID-simulation', queue: 'mini'})\"></i><i class=\"fa fa-fw fa-stop\"\" onclick=\"task_action({action:'kill', tag:'COVID-simulation', queue: 'mini'})\"></i><i class=\"fa fa-fw fa-trash\"\" onclick=\"task_action({action:'purge', tag:'COVID-simulation', queue: 'mini'})\"></i></div></pre><pre class=\"task_tags task_tag_dc16cf4dda77be91\">dc16cf4dda77be91<div class=\"task_tag_actions\"><i class=\"fa fa-fw fa-refresh\" onclick=\"task_action({action:'status', tag:'dc16cf4dda77be91', queue: 'mini'})\"></i><i class=\"fa fa-fw fa-stop\"\" onclick=\"task_action({action:'kill', tag:'dc16cf4dda77be91', queue: 'mini'})\"></i><i class=\"fa fa-fw fa-trash\"\" onclick=\"task_action({action:'purge', tag:'dc16cf4dda77be91', queue: 'mini'})\"></i></div></pre><pre class=\"task_tags task_tag_scratch_0\">scratch_0<div class=\"task_tag_actions\"><i class=\"fa fa-fw fa-refresh\" onclick=\"task_action({action:'status', tag:'scratch_0', queue: 'mini'})\"></i><i class=\"fa fa-fw fa-stop\"\" onclick=\"task_action({action:'kill', tag:'scratch_0', queue: 'mini'})\"></i><i class=\"fa fa-fw fa-trash\"\" onclick=\"task_action({action:'purge', tag:'scratch_0', queue: 'mini'})\"></i></div></pre></span>\n",
       "    </td>\n",
       "    <td class=\"task_timer\">\n",
       "      <pre><i class=\"fa fa-fw fa-clock-o\"></i><time id=\"status_duration_mini_1f98b091a9ac4ad3_f58271e81b6445fe84f589d830f58004\" class=\"completed\" datetime=\"1596730433449.929\">Ran for < 5 seconds</time></pre>\n",
       "    </td>\n",
       "    <td class=\"task_status\">\n",
       "      <pre><i class=\"fa fa-fw fa-tasks\"></i><span id=\"status_text_mini_1f98b091a9ac4ad3_f58271e81b6445fe84f589d830f58004\">completed</span></pre>\n",
       "    </td>\n",
       "</tr>\n",
       "</table>\n"
      ]
     },
     "metadata": {},
     "output_type": "display_data"
    },
    {
     "data": {
      "text/html": [
       "\n",
       "<table id=\"task_mini_8170f2febd795d9b_f58271e81b6445fe84f589d830f58004\" class=\"task_table completed\">\n",
       "<tr>\n",
       "    <td class=\"task_icon\">\n",
       "      <i id=\"task_status_icon_mini_8170f2febd795d9b_f58271e81b6445fe84f589d830f58004\" class=\"fa fa-2x fa-fw fa-check-square-o\"</i>\n",
       "    </td>\n",
       "    <td class=\"task_id\">\n",
       "      <span><pre><i class=\"fa fa-fw fa-sitemap\"></i></pre><pre>8170f2febd795d9b<div class=\"task_id_actions\"><i class=\"fa fa-fw fa-refresh\" onclick=\"task_action({action:'status', task:'8170f2febd795d9b', queue: 'mini'})\"></i><i class=\"fa fa-fw fa-play\" onclick=\"task_action({action:'execute', task:'8170f2febd795d9b', queue: 'mini'})\"></i><i class=\"fa fa-fw fa-stop\"\" onclick=\"task_action({action:'kill', task:'8170f2febd795d9b', queue: 'mini'})\"></i><i class=\"fa fa-fw fa-trash\"\" onclick=\"task_action({action:'purge', task:'8170f2febd795d9b', queue: 'mini'})\"></i></div></pre></span>\n",
       "    </td>\n",
       "    <td class=\"task_tags\">\n",
       "      <span id=\"status_tags_mini_8170f2febd795d9b_f58271e81b6445fe84f589d830f58004\"><pre><i class=\"fa fa-fw fa-info-circle\"></i></pre><pre class=\"task_tags task_tag_COVID-simulation\">COVID-simulation<div class=\"task_tag_actions\"><i class=\"fa fa-fw fa-refresh\" onclick=\"task_action({action:'status', tag:'COVID-simulation', queue: 'mini'})\"></i><i class=\"fa fa-fw fa-stop\"\" onclick=\"task_action({action:'kill', tag:'COVID-simulation', queue: 'mini'})\"></i><i class=\"fa fa-fw fa-trash\"\" onclick=\"task_action({action:'purge', tag:'COVID-simulation', queue: 'mini'})\"></i></div></pre><pre class=\"task_tags task_tag_dc16cf4dda77be91\">dc16cf4dda77be91<div class=\"task_tag_actions\"><i class=\"fa fa-fw fa-refresh\" onclick=\"task_action({action:'status', tag:'dc16cf4dda77be91', queue: 'mini'})\"></i><i class=\"fa fa-fw fa-stop\"\" onclick=\"task_action({action:'kill', tag:'dc16cf4dda77be91', queue: 'mini'})\"></i><i class=\"fa fa-fw fa-trash\"\" onclick=\"task_action({action:'purge', tag:'dc16cf4dda77be91', queue: 'mini'})\"></i></div></pre><pre class=\"task_tags task_tag_scratch_0\">scratch_0<div class=\"task_tag_actions\"><i class=\"fa fa-fw fa-refresh\" onclick=\"task_action({action:'status', tag:'scratch_0', queue: 'mini'})\"></i><i class=\"fa fa-fw fa-stop\"\" onclick=\"task_action({action:'kill', tag:'scratch_0', queue: 'mini'})\"></i><i class=\"fa fa-fw fa-trash\"\" onclick=\"task_action({action:'purge', tag:'scratch_0', queue: 'mini'})\"></i></div></pre></span>\n",
       "    </td>\n",
       "    <td class=\"task_timer\">\n",
       "      <pre><i class=\"fa fa-fw fa-clock-o\"></i><time id=\"status_duration_mini_8170f2febd795d9b_f58271e81b6445fe84f589d830f58004\" class=\"completed\" datetime=\"1596730555060.587\">Ran for < 5 seconds</time></pre>\n",
       "    </td>\n",
       "    <td class=\"task_status\">\n",
       "      <pre><i class=\"fa fa-fw fa-tasks\"></i><span id=\"status_text_mini_8170f2febd795d9b_f58271e81b6445fe84f589d830f58004\">completed</span></pre>\n",
       "    </td>\n",
       "</tr>\n",
       "</table>\n"
      ]
     },
     "metadata": {},
     "output_type": "display_data"
    },
    {
     "data": {
      "text/html": [
       "\n",
       "<table id=\"task_mini_52e950c04881807c_f58271e81b6445fe84f589d830f58004\" class=\"task_table completed\">\n",
       "<tr>\n",
       "    <td class=\"task_icon\">\n",
       "      <i id=\"task_status_icon_mini_52e950c04881807c_f58271e81b6445fe84f589d830f58004\" class=\"fa fa-2x fa-fw fa-check-square-o\"</i>\n",
       "    </td>\n",
       "    <td class=\"task_id\">\n",
       "      <span><pre><i class=\"fa fa-fw fa-sitemap\"></i></pre><pre>52e950c04881807c<div class=\"task_id_actions\"><i class=\"fa fa-fw fa-refresh\" onclick=\"task_action({action:'status', task:'52e950c04881807c', queue: 'mini'})\"></i><i class=\"fa fa-fw fa-play\" onclick=\"task_action({action:'execute', task:'52e950c04881807c', queue: 'mini'})\"></i><i class=\"fa fa-fw fa-stop\"\" onclick=\"task_action({action:'kill', task:'52e950c04881807c', queue: 'mini'})\"></i><i class=\"fa fa-fw fa-trash\"\" onclick=\"task_action({action:'purge', task:'52e950c04881807c', queue: 'mini'})\"></i></div></pre></span>\n",
       "    </td>\n",
       "    <td class=\"task_tags\">\n",
       "      <span id=\"status_tags_mini_52e950c04881807c_f58271e81b6445fe84f589d830f58004\"><pre><i class=\"fa fa-fw fa-info-circle\"></i></pre><pre class=\"task_tags task_tag_COVID-simulation\">COVID-simulation<div class=\"task_tag_actions\"><i class=\"fa fa-fw fa-refresh\" onclick=\"task_action({action:'status', tag:'COVID-simulation', queue: 'mini'})\"></i><i class=\"fa fa-fw fa-stop\"\" onclick=\"task_action({action:'kill', tag:'COVID-simulation', queue: 'mini'})\"></i><i class=\"fa fa-fw fa-trash\"\" onclick=\"task_action({action:'purge', tag:'COVID-simulation', queue: 'mini'})\"></i></div></pre><pre class=\"task_tags task_tag_dc16cf4dda77be91\">dc16cf4dda77be91<div class=\"task_tag_actions\"><i class=\"fa fa-fw fa-refresh\" onclick=\"task_action({action:'status', tag:'dc16cf4dda77be91', queue: 'mini'})\"></i><i class=\"fa fa-fw fa-stop\"\" onclick=\"task_action({action:'kill', tag:'dc16cf4dda77be91', queue: 'mini'})\"></i><i class=\"fa fa-fw fa-trash\"\" onclick=\"task_action({action:'purge', tag:'dc16cf4dda77be91', queue: 'mini'})\"></i></div></pre><pre class=\"task_tags task_tag_scratch_0\">scratch_0<div class=\"task_tag_actions\"><i class=\"fa fa-fw fa-refresh\" onclick=\"task_action({action:'status', tag:'scratch_0', queue: 'mini'})\"></i><i class=\"fa fa-fw fa-stop\"\" onclick=\"task_action({action:'kill', tag:'scratch_0', queue: 'mini'})\"></i><i class=\"fa fa-fw fa-trash\"\" onclick=\"task_action({action:'purge', tag:'scratch_0', queue: 'mini'})\"></i></div></pre></span>\n",
       "    </td>\n",
       "    <td class=\"task_timer\">\n",
       "      <pre><i class=\"fa fa-fw fa-clock-o\"></i><time id=\"status_duration_mini_52e950c04881807c_f58271e81b6445fe84f589d830f58004\" class=\"completed\" datetime=\"1596730613101.011\">Ran for < 5 seconds</time></pre>\n",
       "    </td>\n",
       "    <td class=\"task_status\">\n",
       "      <pre><i class=\"fa fa-fw fa-tasks\"></i><span id=\"status_text_mini_52e950c04881807c_f58271e81b6445fe84f589d830f58004\">completed</span></pre>\n",
       "    </td>\n",
       "</tr>\n",
       "</table>\n"
      ]
     },
     "metadata": {},
     "output_type": "display_data"
    },
    {
     "data": {
      "text/html": [
       "\n",
       "<table id=\"task_mini_531069caf17fb6ab_f58271e81b6445fe84f589d830f58004\" class=\"task_table completed\">\n",
       "<tr>\n",
       "    <td class=\"task_icon\">\n",
       "      <i id=\"task_status_icon_mini_531069caf17fb6ab_f58271e81b6445fe84f589d830f58004\" class=\"fa fa-2x fa-fw fa-check-square-o\"</i>\n",
       "    </td>\n",
       "    <td class=\"task_id\">\n",
       "      <span><pre><i class=\"fa fa-fw fa-sitemap\"></i></pre><pre>531069caf17fb6ab<div class=\"task_id_actions\"><i class=\"fa fa-fw fa-refresh\" onclick=\"task_action({action:'status', task:'531069caf17fb6ab', queue: 'mini'})\"></i><i class=\"fa fa-fw fa-play\" onclick=\"task_action({action:'execute', task:'531069caf17fb6ab', queue: 'mini'})\"></i><i class=\"fa fa-fw fa-stop\"\" onclick=\"task_action({action:'kill', task:'531069caf17fb6ab', queue: 'mini'})\"></i><i class=\"fa fa-fw fa-trash\"\" onclick=\"task_action({action:'purge', task:'531069caf17fb6ab', queue: 'mini'})\"></i></div></pre></span>\n",
       "    </td>\n",
       "    <td class=\"task_tags\">\n",
       "      <span id=\"status_tags_mini_531069caf17fb6ab_f58271e81b6445fe84f589d830f58004\"><pre><i class=\"fa fa-fw fa-info-circle\"></i></pre><pre class=\"task_tags task_tag_COVID-simulation\">COVID-simulation<div class=\"task_tag_actions\"><i class=\"fa fa-fw fa-refresh\" onclick=\"task_action({action:'status', tag:'COVID-simulation', queue: 'mini'})\"></i><i class=\"fa fa-fw fa-stop\"\" onclick=\"task_action({action:'kill', tag:'COVID-simulation', queue: 'mini'})\"></i><i class=\"fa fa-fw fa-trash\"\" onclick=\"task_action({action:'purge', tag:'COVID-simulation', queue: 'mini'})\"></i></div></pre><pre class=\"task_tags task_tag_dc16cf4dda77be91\">dc16cf4dda77be91<div class=\"task_tag_actions\"><i class=\"fa fa-fw fa-refresh\" onclick=\"task_action({action:'status', tag:'dc16cf4dda77be91', queue: 'mini'})\"></i><i class=\"fa fa-fw fa-stop\"\" onclick=\"task_action({action:'kill', tag:'dc16cf4dda77be91', queue: 'mini'})\"></i><i class=\"fa fa-fw fa-trash\"\" onclick=\"task_action({action:'purge', tag:'dc16cf4dda77be91', queue: 'mini'})\"></i></div></pre><pre class=\"task_tags task_tag_scratch_0\">scratch_0<div class=\"task_tag_actions\"><i class=\"fa fa-fw fa-refresh\" onclick=\"task_action({action:'status', tag:'scratch_0', queue: 'mini'})\"></i><i class=\"fa fa-fw fa-stop\"\" onclick=\"task_action({action:'kill', tag:'scratch_0', queue: 'mini'})\"></i><i class=\"fa fa-fw fa-trash\"\" onclick=\"task_action({action:'purge', tag:'scratch_0', queue: 'mini'})\"></i></div></pre></span>\n",
       "    </td>\n",
       "    <td class=\"task_timer\">\n",
       "      <pre><i class=\"fa fa-fw fa-clock-o\"></i><time id=\"status_duration_mini_531069caf17fb6ab_f58271e81b6445fe84f589d830f58004\" class=\"completed\" datetime=\"1596730697252.9512\">Ran for < 5 seconds</time></pre>\n",
       "    </td>\n",
       "    <td class=\"task_status\">\n",
       "      <pre><i class=\"fa fa-fw fa-tasks\"></i><span id=\"status_text_mini_531069caf17fb6ab_f58271e81b6445fe84f589d830f58004\">completed</span></pre>\n",
       "    </td>\n",
       "</tr>\n",
       "</table>\n"
      ]
     },
     "metadata": {},
     "output_type": "display_data"
    },
    {
     "data": {
      "text/html": [
       "\n",
       "<table id=\"task_mini_71b7f25e84438dce_f58271e81b6445fe84f589d830f58004\" class=\"task_table completed\">\n",
       "<tr>\n",
       "    <td class=\"task_icon\">\n",
       "      <i id=\"task_status_icon_mini_71b7f25e84438dce_f58271e81b6445fe84f589d830f58004\" class=\"fa fa-2x fa-fw fa-check-square-o\"</i>\n",
       "    </td>\n",
       "    <td class=\"task_id\">\n",
       "      <span><pre><i class=\"fa fa-fw fa-sitemap\"></i></pre><pre>71b7f25e84438dce<div class=\"task_id_actions\"><i class=\"fa fa-fw fa-refresh\" onclick=\"task_action({action:'status', task:'71b7f25e84438dce', queue: 'mini'})\"></i><i class=\"fa fa-fw fa-play\" onclick=\"task_action({action:'execute', task:'71b7f25e84438dce', queue: 'mini'})\"></i><i class=\"fa fa-fw fa-stop\"\" onclick=\"task_action({action:'kill', task:'71b7f25e84438dce', queue: 'mini'})\"></i><i class=\"fa fa-fw fa-trash\"\" onclick=\"task_action({action:'purge', task:'71b7f25e84438dce', queue: 'mini'})\"></i></div></pre></span>\n",
       "    </td>\n",
       "    <td class=\"task_tags\">\n",
       "      <span id=\"status_tags_mini_71b7f25e84438dce_f58271e81b6445fe84f589d830f58004\"><pre><i class=\"fa fa-fw fa-info-circle\"></i></pre><pre class=\"task_tags task_tag_COVID-simulation\">COVID-simulation<div class=\"task_tag_actions\"><i class=\"fa fa-fw fa-refresh\" onclick=\"task_action({action:'status', tag:'COVID-simulation', queue: 'mini'})\"></i><i class=\"fa fa-fw fa-stop\"\" onclick=\"task_action({action:'kill', tag:'COVID-simulation', queue: 'mini'})\"></i><i class=\"fa fa-fw fa-trash\"\" onclick=\"task_action({action:'purge', tag:'COVID-simulation', queue: 'mini'})\"></i></div></pre><pre class=\"task_tags task_tag_dc16cf4dda77be91\">dc16cf4dda77be91<div class=\"task_tag_actions\"><i class=\"fa fa-fw fa-refresh\" onclick=\"task_action({action:'status', tag:'dc16cf4dda77be91', queue: 'mini'})\"></i><i class=\"fa fa-fw fa-stop\"\" onclick=\"task_action({action:'kill', tag:'dc16cf4dda77be91', queue: 'mini'})\"></i><i class=\"fa fa-fw fa-trash\"\" onclick=\"task_action({action:'purge', tag:'dc16cf4dda77be91', queue: 'mini'})\"></i></div></pre><pre class=\"task_tags task_tag_scratch_0\">scratch_0<div class=\"task_tag_actions\"><i class=\"fa fa-fw fa-refresh\" onclick=\"task_action({action:'status', tag:'scratch_0', queue: 'mini'})\"></i><i class=\"fa fa-fw fa-stop\"\" onclick=\"task_action({action:'kill', tag:'scratch_0', queue: 'mini'})\"></i><i class=\"fa fa-fw fa-trash\"\" onclick=\"task_action({action:'purge', tag:'scratch_0', queue: 'mini'})\"></i></div></pre></span>\n",
       "    </td>\n",
       "    <td class=\"task_timer\">\n",
       "      <pre><i class=\"fa fa-fw fa-clock-o\"></i><time id=\"status_duration_mini_71b7f25e84438dce_f58271e81b6445fe84f589d830f58004\" class=\"completed\" datetime=\"1596730756095.232\">Ran for < 5 seconds</time></pre>\n",
       "    </td>\n",
       "    <td class=\"task_status\">\n",
       "      <pre><i class=\"fa fa-fw fa-tasks\"></i><span id=\"status_text_mini_71b7f25e84438dce_f58271e81b6445fe84f589d830f58004\">completed</span></pre>\n",
       "    </td>\n",
       "</tr>\n",
       "</table>\n"
      ]
     },
     "metadata": {},
     "output_type": "display_data"
    },
    {
     "data": {
      "text/html": [
       "\n",
       "<table id=\"task_mini_57cee6f155a144d9_f58271e81b6445fe84f589d830f58004\" class=\"task_table completed\">\n",
       "<tr>\n",
       "    <td class=\"task_icon\">\n",
       "      <i id=\"task_status_icon_mini_57cee6f155a144d9_f58271e81b6445fe84f589d830f58004\" class=\"fa fa-2x fa-fw fa-check-square-o\"</i>\n",
       "    </td>\n",
       "    <td class=\"task_id\">\n",
       "      <span><pre><i class=\"fa fa-fw fa-sitemap\"></i></pre><pre>57cee6f155a144d9<div class=\"task_id_actions\"><i class=\"fa fa-fw fa-refresh\" onclick=\"task_action({action:'status', task:'57cee6f155a144d9', queue: 'mini'})\"></i><i class=\"fa fa-fw fa-play\" onclick=\"task_action({action:'execute', task:'57cee6f155a144d9', queue: 'mini'})\"></i><i class=\"fa fa-fw fa-stop\"\" onclick=\"task_action({action:'kill', task:'57cee6f155a144d9', queue: 'mini'})\"></i><i class=\"fa fa-fw fa-trash\"\" onclick=\"task_action({action:'purge', task:'57cee6f155a144d9', queue: 'mini'})\"></i></div></pre></span>\n",
       "    </td>\n",
       "    <td class=\"task_tags\">\n",
       "      <span id=\"status_tags_mini_57cee6f155a144d9_f58271e81b6445fe84f589d830f58004\"><pre><i class=\"fa fa-fw fa-info-circle\"></i></pre><pre class=\"task_tags task_tag_COVID-simulation\">COVID-simulation<div class=\"task_tag_actions\"><i class=\"fa fa-fw fa-refresh\" onclick=\"task_action({action:'status', tag:'COVID-simulation', queue: 'mini'})\"></i><i class=\"fa fa-fw fa-stop\"\" onclick=\"task_action({action:'kill', tag:'COVID-simulation', queue: 'mini'})\"></i><i class=\"fa fa-fw fa-trash\"\" onclick=\"task_action({action:'purge', tag:'COVID-simulation', queue: 'mini'})\"></i></div></pre><pre class=\"task_tags task_tag_dc16cf4dda77be91\">dc16cf4dda77be91<div class=\"task_tag_actions\"><i class=\"fa fa-fw fa-refresh\" onclick=\"task_action({action:'status', tag:'dc16cf4dda77be91', queue: 'mini'})\"></i><i class=\"fa fa-fw fa-stop\"\" onclick=\"task_action({action:'kill', tag:'dc16cf4dda77be91', queue: 'mini'})\"></i><i class=\"fa fa-fw fa-trash\"\" onclick=\"task_action({action:'purge', tag:'dc16cf4dda77be91', queue: 'mini'})\"></i></div></pre><pre class=\"task_tags task_tag_scratch_0\">scratch_0<div class=\"task_tag_actions\"><i class=\"fa fa-fw fa-refresh\" onclick=\"task_action({action:'status', tag:'scratch_0', queue: 'mini'})\"></i><i class=\"fa fa-fw fa-stop\"\" onclick=\"task_action({action:'kill', tag:'scratch_0', queue: 'mini'})\"></i><i class=\"fa fa-fw fa-trash\"\" onclick=\"task_action({action:'purge', tag:'scratch_0', queue: 'mini'})\"></i></div></pre></span>\n",
       "    </td>\n",
       "    <td class=\"task_timer\">\n",
       "      <pre><i class=\"fa fa-fw fa-clock-o\"></i><time id=\"status_duration_mini_57cee6f155a144d9_f58271e81b6445fe84f589d830f58004\" class=\"completed\" datetime=\"1596730846303.331\">Ran for < 5 seconds</time></pre>\n",
       "    </td>\n",
       "    <td class=\"task_status\">\n",
       "      <pre><i class=\"fa fa-fw fa-tasks\"></i><span id=\"status_text_mini_57cee6f155a144d9_f58271e81b6445fe84f589d830f58004\">completed</span></pre>\n",
       "    </td>\n",
       "</tr>\n",
       "</table>\n"
      ]
     },
     "metadata": {},
     "output_type": "display_data"
    }
   ],
   "source": [
    "input: for_each=[dict(ps=[10, 20, 30, 40]), dict(ti=[0, 3, 7, 14])]\n",
    "\n",
    "task: queue='localhost'\n",
    "sh: expand=True, template_name='conda', env_name='ictr'\n",
    "    outbreak_simulator --rep 10000 --popsize {ps} --handle-symptomatic remove --stop-if 't>90' --logfile p{ps}_t{ti}.log \\\n",
    "        --plugin community_infection --probability 0.0022 --interval 1  \\\n",
    "        --plugin testing --interval {ti} --proportion 1 --handle-positive remove \\\n",
    "        --plugin stat --at 14 90\n"
   ]
  },
  {
   "cell_type": "markdown",
   "metadata": {
    "kernel": "SoS"
   },
   "source": [
    "## Results"
   ]
  },
  {
   "cell_type": "markdown",
   "metadata": {
    "kernel": "SoS"
   },
   "source": [
    "The log file of the simulations contains event `STAT` with population size and `INFECTION` for infections, and the `by` parameter can be used to differentiate infection within the cohort (by a certain ID) or from community.\n",
    "\n",
    "The following table shows\n",
    "\n",
    "1. **Average number of uninfected**: Mean remaining population size after 90 days.\n",
    "2. **Std of uninfected**: Standard deviation of remaining population size.\n",
    "3. **proportion of none infected**: Proportion of simulations with no infection at the end.\n",
    "4. **Average number of community infection**: Average number of community infections detected.\n",
    "5. **Average number of within-cohort infection**: Average number of within cohort infection."
   ]
  },
  {
   "cell_type": "code",
   "execution_count": 5,
   "metadata": {
    "kernel": "SoS"
   },
   "outputs": [
    {
     "data": {
      "text/html": [
       "<div class=\"sos_hint\">> summary.csv (900 B):</div>"
      ],
      "text/plain": [
       "\n",
       "> summary.csv (900 B):"
      ]
     },
     "metadata": {},
     "output_type": "display_data"
    },
    {
     "data": {
      "text/html": [
       "\n",
       "    <div class='dataframe_container' style=\"max-height:400px\">\n",
       "    <input type=\"text\" class='dataframe_input' id=\"search_n8zzl3zt\" onkeyup=\"filterDataFrame('n8zzl3zt')\" placeholder=\"Search for names..\">\n",
       "    <table border=\"1\" id=\"dataframe_n8zzl3zt\" class=\"sos_dataframe dataframe\">\n",
       "  <thead>\n",
       "    <tr style=\"text-align: right;\">\n",
       "      <th> &nbsp; <i class=\"fa fa-sort\" style=\"color:lightgray\" onclick=\"sortDataFrame('n8zzl3zt', 0, 'numeric')\"></th>\n",
       "      <th>Cohort size &nbsp; <i class=\"fa fa-sort\" style=\"color:lightgray\" onclick=\"sortDataFrame('n8zzl3zt', 1, 'numeric')\"></th>\n",
       "      <th>Community infection rate &nbsp; <i class=\"fa fa-sort\" style=\"color:lightgray\" onclick=\"sortDataFrame('n8zzl3zt', 2, 'numeric')\"></th>\n",
       "      <th>Test frequency (0 for no test) &nbsp; <i class=\"fa fa-sort\" style=\"color:lightgray\" onclick=\"sortDataFrame('n8zzl3zt', 3, 'numeric')\"></th>\n",
       "      <th>Average number of uninfected &nbsp; <i class=\"fa fa-sort\" style=\"color:lightgray\" onclick=\"sortDataFrame('n8zzl3zt', 4, 'numeric')\"></th>\n",
       "      <th>Std of uninfected &nbsp; <i class=\"fa fa-sort\" style=\"color:lightgray\" onclick=\"sortDataFrame('n8zzl3zt', 5, 'numeric')\"></th>\n",
       "      <th>Proportion of none infected &nbsp; <i class=\"fa fa-sort\" style=\"color:lightgray\" onclick=\"sortDataFrame('n8zzl3zt', 6, 'alphabetic')\"></th>\n",
       "      <th>Average number of community infection &nbsp; <i class=\"fa fa-sort\" style=\"color:lightgray\" onclick=\"sortDataFrame('n8zzl3zt', 7, 'numeric')\"></th>\n",
       "      <th>Average number of within-cohort infection &nbsp; <i class=\"fa fa-sort\" style=\"color:lightgray\" onclick=\"sortDataFrame('n8zzl3zt', 8, 'numeric')\"></th>\n",
       "    </tr>\n",
       "  </thead>\n",
       "  <tbody>\n",
       "    <tr>\n",
       "      <th>0</th>\n",
       "      <td>10</td>\n",
       "      <td>0.0022</td>\n",
       "      <td>0</td>\n",
       "      <td>3.7</td>\n",
       "      <td>2.6</td>\n",
       "      <td>1.01%</td>\n",
       "      <td>2.9</td>\n",
       "      <td>3.5</td>\n",
       "    </tr>\n",
       "    <tr>\n",
       "      <th>1</th>\n",
       "      <td>10</td>\n",
       "      <td>0.0022</td>\n",
       "      <td>3</td>\n",
       "      <td>5.9</td>\n",
       "      <td>1.8</td>\n",
       "      <td>1.14%</td>\n",
       "      <td>3.6</td>\n",
       "      <td>0.5</td>\n",
       "    </tr>\n",
       "    <tr>\n",
       "      <th>2</th>\n",
       "      <td>10</td>\n",
       "      <td>0.0022</td>\n",
       "      <td>7</td>\n",
       "      <td>5.2</td>\n",
       "      <td>2.1</td>\n",
       "      <td>1.14%</td>\n",
       "      <td>3.4</td>\n",
       "      <td>1.5</td>\n",
       "    </tr>\n",
       "    <tr>\n",
       "      <th>3</th>\n",
       "      <td>10</td>\n",
       "      <td>0.0022</td>\n",
       "      <td>14</td>\n",
       "      <td>4.5</td>\n",
       "      <td>2.4</td>\n",
       "      <td>1.15%</td>\n",
       "      <td>3.1</td>\n",
       "      <td>2.4</td>\n",
       "    </tr>\n",
       "    <tr>\n",
       "      <th>4</th>\n",
       "      <td>20</td>\n",
       "      <td>0.0022</td>\n",
       "      <td>0</td>\n",
       "      <td>6.2</td>\n",
       "      <td>3.9</td>\n",
       "      <td>0.00%</td>\n",
       "      <td>5.3</td>\n",
       "      <td>8.5</td>\n",
       "    </tr>\n",
       "    <tr>\n",
       "      <th>5</th>\n",
       "      <td>20</td>\n",
       "      <td>0.0022</td>\n",
       "      <td>3</td>\n",
       "      <td>11.8</td>\n",
       "      <td>2.5</td>\n",
       "      <td>0.02%</td>\n",
       "      <td>7.1</td>\n",
       "      <td>1.2</td>\n",
       "    </tr>\n",
       "    <tr>\n",
       "      <th>6</th>\n",
       "      <td>20</td>\n",
       "      <td>0.0022</td>\n",
       "      <td>7</td>\n",
       "      <td>10.1</td>\n",
       "      <td>3.2</td>\n",
       "      <td>0.03%</td>\n",
       "      <td>6.6</td>\n",
       "      <td>3.3</td>\n",
       "    </tr>\n",
       "    <tr>\n",
       "      <th>7</th>\n",
       "      <td>20</td>\n",
       "      <td>0.0022</td>\n",
       "      <td>14</td>\n",
       "      <td>8.3</td>\n",
       "      <td>3.7</td>\n",
       "      <td>0.00%</td>\n",
       "      <td>6.1</td>\n",
       "      <td>5.6</td>\n",
       "    </tr>\n",
       "    <tr>\n",
       "      <th>8</th>\n",
       "      <td>30</td>\n",
       "      <td>0.0022</td>\n",
       "      <td>0</td>\n",
       "      <td>8.5</td>\n",
       "      <td>5.0</td>\n",
       "      <td>0.00%</td>\n",
       "      <td>7.7</td>\n",
       "      <td>13.8</td>\n",
       "    </tr>\n",
       "    <tr>\n",
       "      <th>9</th>\n",
       "      <td>30</td>\n",
       "      <td>0.0022</td>\n",
       "      <td>3</td>\n",
       "      <td>17.6</td>\n",
       "      <td>3.1</td>\n",
       "      <td>0.00%</td>\n",
       "      <td>10.6</td>\n",
       "      <td>1.9</td>\n",
       "    </tr>\n",
       "    <tr>\n",
       "      <th>10</th>\n",
       "      <td>30</td>\n",
       "      <td>0.0022</td>\n",
       "      <td>7</td>\n",
       "      <td>15.0</td>\n",
       "      <td>3.9</td>\n",
       "      <td>0.00%</td>\n",
       "      <td>9.9</td>\n",
       "      <td>5.2</td>\n",
       "    </tr>\n",
       "    <tr>\n",
       "      <th>11</th>\n",
       "      <td>30</td>\n",
       "      <td>0.0022</td>\n",
       "      <td>14</td>\n",
       "      <td>12.0</td>\n",
       "      <td>4.8</td>\n",
       "      <td>0.00%</td>\n",
       "      <td>9.0</td>\n",
       "      <td>9.0</td>\n",
       "    </tr>\n",
       "    <tr>\n",
       "      <th>12</th>\n",
       "      <td>40</td>\n",
       "      <td>0.0022</td>\n",
       "      <td>0</td>\n",
       "      <td>10.8</td>\n",
       "      <td>5.9</td>\n",
       "      <td>0.00%</td>\n",
       "      <td>10.0</td>\n",
       "      <td>19.3</td>\n",
       "    </tr>\n",
       "    <tr>\n",
       "      <th>13</th>\n",
       "      <td>40</td>\n",
       "      <td>0.0022</td>\n",
       "      <td>3</td>\n",
       "      <td>23.4</td>\n",
       "      <td>3.6</td>\n",
       "      <td>0.00%</td>\n",
       "      <td>14.2</td>\n",
       "      <td>2.5</td>\n",
       "    </tr>\n",
       "    <tr>\n",
       "      <th>14</th>\n",
       "      <td>40</td>\n",
       "      <td>0.0022</td>\n",
       "      <td>7</td>\n",
       "      <td>19.9</td>\n",
       "      <td>4.6</td>\n",
       "      <td>0.00%</td>\n",
       "      <td>13.2</td>\n",
       "      <td>7.0</td>\n",
       "    </tr>\n",
       "    <tr>\n",
       "      <th>15</th>\n",
       "      <td>40</td>\n",
       "      <td>0.0022</td>\n",
       "      <td>14</td>\n",
       "      <td>15.9</td>\n",
       "      <td>5.6</td>\n",
       "      <td>0.00%</td>\n",
       "      <td>11.9</td>\n",
       "      <td>12.3</td>\n",
       "    </tr>\n",
       "  </tbody>\n",
       "</table></div>"
      ]
     },
     "metadata": {},
     "output_type": "display_data"
    }
   ],
   "source": [
    "%preview summary.csv\n",
    "\n",
    "import pandas as pd\n",
    "\n",
    "def param(data, name):\n",
    "    stat = data[(data['event'] == 'STAT') & (data['time'] == 90)]\n",
    "    return stat.apply(lambda x: int(x['params'].split(name+'=')[1].split(',')[0]), axis=1)\n",
    "\n",
    "def infect(data):\n",
    "    infect = data[data['event'] == 'INFECTION']\n",
    "    by = infect.apply(lambda x: 'by' in x['params'], axis=1)\n",
    "    return infect.shape[0] - sum(by), sum(by)\n",
    "\n",
    "with open('summary.csv', 'w') as sc:\n",
    "    sc.write(','.join([\n",
    "        'Cohort size',\n",
    "        'Community infection rate',\n",
    "        'Test frequency (0 for no test)',\n",
    "        'Average number of uninfected',\n",
    "        'Std of uninfected',\n",
    "        'Proportion of none infected',\n",
    "        'Average number of community infection',\n",
    "        'Average number of within-cohort infection']) + '\\n')\n",
    "    for ps in [10, 20, 30, 40]:\n",
    "        for ti in [0, 3, 7, 14]:\n",
    "            data = pd.read_csv(f'p{ps}_t{ti}.log', sep='\\t')\n",
    "            es = param(data, 'n_popsize') - param(data, 'n_infected')\n",
    "            pna = 100 * sum(es == ps) / 10000\n",
    "            community_infect, within_infect = infect(data)\n",
    "            sc.write(f'{ps}, {0.0022}, {ti}, {es.mean():.1f}, {es.std():.1f}, {pna:.2f}%, {community_infect/10000:.1f}, {within_infect/10000:.1f}\\n')\n"
   ]
  },
  {
   "cell_type": "markdown",
   "metadata": {
    "kernel": "SoS"
   },
   "source": [
    "Not surprisingly, the results show that\n",
    "\n",
    "1. Risk of infection increases with larger cohort size\n",
    "2. More frequent tests will reduce the number of within-cohort infection\n"
   ]
  },
  {
   "cell_type": "markdown",
   "metadata": {
    "kernel": "SoS"
   },
   "source": [
    "## Availability"
   ]
  },
  {
   "cell_type": "markdown",
   "metadata": {
    "kernel": "SoS"
   },
   "source": [
    "This notebook is available under the `Applications` directory of the [GitHub repository](https://github.com/ictr/covid19-outbreak-simulator) of the COVID19 Outbreak Simulator. It can be executed with [`sos-papermill`](https://github.com/vatlab/sos-papermill) with the following parameters, or using a docker image `bcmictr/outbreak-simulator-notebook` as described in [here](/covid19-outbreak-simulator/docs/cli/)."
   ]
  }
 ],
 "metadata": {
  "kernelspec": {
   "display_name": "SoS",
   "language": "sos",
   "name": "sos"
  },
  "language_info": {
   "codemirror_mode": "sos",
   "file_extension": ".sos",
   "mimetype": "text/x-sos",
   "name": "sos",
   "nbconvert_exporter": "sos_notebook.converter.SoS_Exporter",
   "pygments_lexer": "sos"
  },
  "sos": {
   "kernels": [
    [
     "SoS",
     "sos",
     "",
     ""
    ]
   ],
   "version": "0.21.13"
  }
 },
 "nbformat": 4,
 "nbformat_minor": 4
}
